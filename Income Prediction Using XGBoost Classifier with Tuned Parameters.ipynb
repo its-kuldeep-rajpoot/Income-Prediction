{
 "cells": [
  {
   "cell_type": "code",
   "execution_count": 1,
   "id": "e79881ca",
   "metadata": {},
   "outputs": [],
   "source": [
    "import pandas as pd"
   ]
  },
  {
   "cell_type": "code",
   "execution_count": 2,
   "id": "33e98fd1",
   "metadata": {},
   "outputs": [],
   "source": [
    "train_data = pd.read_csv(\"Income_Train.csv\")"
   ]
  },
  {
   "cell_type": "code",
   "execution_count": 3,
   "id": "023974c7",
   "metadata": {},
   "outputs": [
    {
     "data": {
      "text/plain": [
       "(209499, 43)"
      ]
     },
     "execution_count": 3,
     "metadata": {},
     "output_type": "execute_result"
    }
   ],
   "source": [
    "train_data.shape"
   ]
  },
  {
   "cell_type": "code",
   "execution_count": 4,
   "id": "bafd7872",
   "metadata": {},
   "outputs": [
    {
     "data": {
      "text/plain": [
       "ID                                     0\n",
       "age                                    0\n",
       "gender                                 0\n",
       "education                              0\n",
       "class                             105245\n",
       "education_institute               196197\n",
       "marital_status                         0\n",
       "race                                   0\n",
       "is_hispanic                            0\n",
       "employment_commitment                  0\n",
       "unemployment_reason               202979\n",
       "employment_stat                        0\n",
       "wage_per_hour                          0\n",
       "is_labor_union                    189420\n",
       "working_week_per_year                  0\n",
       "industry_code                          0\n",
       "industry_code_main                     0\n",
       "occupation_code                        0\n",
       "occupation_code_main              105694\n",
       "total_employed                         0\n",
       "household_stat                         0\n",
       "household_summary                      0\n",
       "under_18_family                   151654\n",
       "veterans_admin_questionnaire      207415\n",
       "vet_benefit                            0\n",
       "tax_status                             0\n",
       "gains                                  0\n",
       "losses                                 0\n",
       "stocks_status                          0\n",
       "citizenship                            0\n",
       "mig_year                               0\n",
       "country_of_birth_own                   0\n",
       "country_of_birth_father                0\n",
       "country_of_birth_mother                0\n",
       "migration_code_change_in_msa        1588\n",
       "migration_prev_sunbelt             88452\n",
       "migration_code_move_within_reg      1588\n",
       "migration_code_change_in_reg        1588\n",
       "residence_1_year_ago              106284\n",
       "old_residence_reg                 193148\n",
       "old_residence_state               193148\n",
       "importance_of_record                   0\n",
       "income_above_limit                     0\n",
       "dtype: int64"
      ]
     },
     "execution_count": 4,
     "metadata": {},
     "output_type": "execute_result"
    }
   ],
   "source": [
    "train_data.isnull().sum()"
   ]
  },
  {
   "cell_type": "code",
   "execution_count": 5,
   "id": "0ae959df",
   "metadata": {},
   "outputs": [],
   "source": [
    "train_data1 = train_data.drop([\"ID\",\"education_institute\",\"employment_commitment\",\"household_stat\",\"unemployment_reason\",\"is_labor_union\",\"under_18_family\",\"veterans_admin_questionnaire\",\"old_residence_state\",\"old_residence_reg\",\"migration_prev_sunbelt\",\"migration_code_change_in_msa\",\"migration_code_move_within_reg\",\"occupation_code_main\",\"residence_1_year_ago\",\"country_of_birth_own\",\"country_of_birth_father\",\"country_of_birth_mother\",\"migration_code_change_in_reg\"], axis=1)"
   ]
  },
  {
   "cell_type": "code",
   "execution_count": 6,
   "id": "00708d39",
   "metadata": {},
   "outputs": [
    {
     "data": {
      "text/plain": [
       "(209499, 24)"
      ]
     },
     "execution_count": 6,
     "metadata": {},
     "output_type": "execute_result"
    }
   ],
   "source": [
    "train_data1.shape"
   ]
  },
  {
   "cell_type": "code",
   "execution_count": 7,
   "id": "e3323149",
   "metadata": {},
   "outputs": [],
   "source": [
    "pd.set_option(\"display.max_columns\", None)"
   ]
  },
  {
   "cell_type": "code",
   "execution_count": 8,
   "id": "f5059d57",
   "metadata": {},
   "outputs": [
    {
     "data": {
      "text/plain": [
       "Index(['gender', 'education', 'class', 'marital_status', 'race', 'is_hispanic',\n",
       "       'industry_code_main', 'household_summary', 'tax_status', 'citizenship',\n",
       "       'income_above_limit'],\n",
       "      dtype='object')"
      ]
     },
     "execution_count": 8,
     "metadata": {},
     "output_type": "execute_result"
    }
   ],
   "source": [
    "obj = train_data1.select_dtypes(include= 'object').columns\n",
    "obj"
   ]
  },
  {
   "cell_type": "code",
   "execution_count": 9,
   "id": "9035490e",
   "metadata": {},
   "outputs": [
    {
     "data": {
      "text/html": [
       "<div>\n",
       "<style scoped>\n",
       "    .dataframe tbody tr th:only-of-type {\n",
       "        vertical-align: middle;\n",
       "    }\n",
       "\n",
       "    .dataframe tbody tr th {\n",
       "        vertical-align: top;\n",
       "    }\n",
       "\n",
       "    .dataframe thead th {\n",
       "        text-align: right;\n",
       "    }\n",
       "</style>\n",
       "<table border=\"1\" class=\"dataframe\">\n",
       "  <thead>\n",
       "    <tr style=\"text-align: right;\">\n",
       "      <th></th>\n",
       "      <th>age</th>\n",
       "      <th>gender</th>\n",
       "      <th>education</th>\n",
       "      <th>class</th>\n",
       "      <th>marital_status</th>\n",
       "      <th>race</th>\n",
       "      <th>is_hispanic</th>\n",
       "      <th>employment_stat</th>\n",
       "      <th>wage_per_hour</th>\n",
       "      <th>working_week_per_year</th>\n",
       "      <th>industry_code</th>\n",
       "      <th>industry_code_main</th>\n",
       "      <th>occupation_code</th>\n",
       "      <th>total_employed</th>\n",
       "      <th>household_summary</th>\n",
       "      <th>vet_benefit</th>\n",
       "      <th>tax_status</th>\n",
       "      <th>gains</th>\n",
       "      <th>losses</th>\n",
       "      <th>stocks_status</th>\n",
       "      <th>citizenship</th>\n",
       "      <th>mig_year</th>\n",
       "      <th>importance_of_record</th>\n",
       "      <th>income_above_limit</th>\n",
       "    </tr>\n",
       "  </thead>\n",
       "  <tbody>\n",
       "    <tr>\n",
       "      <th>0</th>\n",
       "      <td>79</td>\n",
       "      <td>0</td>\n",
       "      <td>12</td>\n",
       "      <td>8</td>\n",
       "      <td>6</td>\n",
       "      <td>4</td>\n",
       "      <td>0</td>\n",
       "      <td>0</td>\n",
       "      <td>0</td>\n",
       "      <td>52</td>\n",
       "      <td>0</td>\n",
       "      <td>14</td>\n",
       "      <td>0</td>\n",
       "      <td>2</td>\n",
       "      <td>4</td>\n",
       "      <td>2</td>\n",
       "      <td>0</td>\n",
       "      <td>0</td>\n",
       "      <td>0</td>\n",
       "      <td>292</td>\n",
       "      <td>4</td>\n",
       "      <td>95</td>\n",
       "      <td>1779.74</td>\n",
       "      <td>1</td>\n",
       "    </tr>\n",
       "    <tr>\n",
       "      <th>1</th>\n",
       "      <td>65</td>\n",
       "      <td>0</td>\n",
       "      <td>12</td>\n",
       "      <td>8</td>\n",
       "      <td>6</td>\n",
       "      <td>4</td>\n",
       "      <td>0</td>\n",
       "      <td>0</td>\n",
       "      <td>0</td>\n",
       "      <td>0</td>\n",
       "      <td>0</td>\n",
       "      <td>14</td>\n",
       "      <td>0</td>\n",
       "      <td>0</td>\n",
       "      <td>4</td>\n",
       "      <td>2</td>\n",
       "      <td>5</td>\n",
       "      <td>0</td>\n",
       "      <td>0</td>\n",
       "      <td>0</td>\n",
       "      <td>4</td>\n",
       "      <td>94</td>\n",
       "      <td>2366.75</td>\n",
       "      <td>1</td>\n",
       "    </tr>\n",
       "  </tbody>\n",
       "</table>\n",
       "</div>"
      ],
      "text/plain": [
       "   age  gender  education  class  marital_status  race  is_hispanic  \\\n",
       "0   79       0         12      8               6     4            0   \n",
       "1   65       0         12      8               6     4            0   \n",
       "\n",
       "   employment_stat  wage_per_hour  working_week_per_year  industry_code  \\\n",
       "0                0              0                     52              0   \n",
       "1                0              0                      0              0   \n",
       "\n",
       "   industry_code_main  occupation_code  total_employed  household_summary  \\\n",
       "0                  14                0               2                  4   \n",
       "1                  14                0               0                  4   \n",
       "\n",
       "   vet_benefit  tax_status  gains  losses  stocks_status  citizenship  \\\n",
       "0            2           0      0       0            292            4   \n",
       "1            2           5      0       0              0            4   \n",
       "\n",
       "   mig_year  importance_of_record  income_above_limit  \n",
       "0        95               1779.74                   1  \n",
       "1        94               2366.75                   1  "
      ]
     },
     "execution_count": 9,
     "metadata": {},
     "output_type": "execute_result"
    }
   ],
   "source": [
    "from sklearn.preprocessing import LabelEncoder\n",
    "l = LabelEncoder()\n",
    "\n",
    "for i in obj:\n",
    "    train_data1[i]=l.fit_transform(train_data1[i].astype(str))\n",
    "\n",
    "train_data1.head(2)"
   ]
  },
  {
   "cell_type": "code",
   "execution_count": 10,
   "id": "9111af38",
   "metadata": {},
   "outputs": [],
   "source": [
    "train_data1[\"income_above_limit\"] = train_data1[\"income_above_limit\"].map({1:0,0:1})"
   ]
  },
  {
   "cell_type": "code",
   "execution_count": 11,
   "id": "4578f907",
   "metadata": {},
   "outputs": [
    {
     "data": {
      "text/html": [
       "<div>\n",
       "<style scoped>\n",
       "    .dataframe tbody tr th:only-of-type {\n",
       "        vertical-align: middle;\n",
       "    }\n",
       "\n",
       "    .dataframe tbody tr th {\n",
       "        vertical-align: top;\n",
       "    }\n",
       "\n",
       "    .dataframe thead th {\n",
       "        text-align: right;\n",
       "    }\n",
       "</style>\n",
       "<table border=\"1\" class=\"dataframe\">\n",
       "  <thead>\n",
       "    <tr style=\"text-align: right;\">\n",
       "      <th></th>\n",
       "      <th>age</th>\n",
       "      <th>gender</th>\n",
       "      <th>education</th>\n",
       "      <th>class</th>\n",
       "      <th>marital_status</th>\n",
       "      <th>race</th>\n",
       "      <th>is_hispanic</th>\n",
       "      <th>employment_stat</th>\n",
       "      <th>wage_per_hour</th>\n",
       "      <th>working_week_per_year</th>\n",
       "      <th>industry_code</th>\n",
       "      <th>industry_code_main</th>\n",
       "      <th>occupation_code</th>\n",
       "      <th>total_employed</th>\n",
       "      <th>household_summary</th>\n",
       "      <th>vet_benefit</th>\n",
       "      <th>tax_status</th>\n",
       "      <th>gains</th>\n",
       "      <th>losses</th>\n",
       "      <th>stocks_status</th>\n",
       "      <th>citizenship</th>\n",
       "      <th>mig_year</th>\n",
       "      <th>importance_of_record</th>\n",
       "      <th>income_above_limit</th>\n",
       "    </tr>\n",
       "  </thead>\n",
       "  <tbody>\n",
       "    <tr>\n",
       "      <th>0</th>\n",
       "      <td>79</td>\n",
       "      <td>0</td>\n",
       "      <td>12</td>\n",
       "      <td>8</td>\n",
       "      <td>6</td>\n",
       "      <td>4</td>\n",
       "      <td>0</td>\n",
       "      <td>0</td>\n",
       "      <td>0</td>\n",
       "      <td>52</td>\n",
       "      <td>0</td>\n",
       "      <td>14</td>\n",
       "      <td>0</td>\n",
       "      <td>2</td>\n",
       "      <td>4</td>\n",
       "      <td>2</td>\n",
       "      <td>0</td>\n",
       "      <td>0</td>\n",
       "      <td>0</td>\n",
       "      <td>292</td>\n",
       "      <td>4</td>\n",
       "      <td>95</td>\n",
       "      <td>1779.74</td>\n",
       "      <td>0</td>\n",
       "    </tr>\n",
       "    <tr>\n",
       "      <th>1</th>\n",
       "      <td>65</td>\n",
       "      <td>0</td>\n",
       "      <td>12</td>\n",
       "      <td>8</td>\n",
       "      <td>6</td>\n",
       "      <td>4</td>\n",
       "      <td>0</td>\n",
       "      <td>0</td>\n",
       "      <td>0</td>\n",
       "      <td>0</td>\n",
       "      <td>0</td>\n",
       "      <td>14</td>\n",
       "      <td>0</td>\n",
       "      <td>0</td>\n",
       "      <td>4</td>\n",
       "      <td>2</td>\n",
       "      <td>5</td>\n",
       "      <td>0</td>\n",
       "      <td>0</td>\n",
       "      <td>0</td>\n",
       "      <td>4</td>\n",
       "      <td>94</td>\n",
       "      <td>2366.75</td>\n",
       "      <td>0</td>\n",
       "    </tr>\n",
       "  </tbody>\n",
       "</table>\n",
       "</div>"
      ],
      "text/plain": [
       "   age  gender  education  class  marital_status  race  is_hispanic  \\\n",
       "0   79       0         12      8               6     4            0   \n",
       "1   65       0         12      8               6     4            0   \n",
       "\n",
       "   employment_stat  wage_per_hour  working_week_per_year  industry_code  \\\n",
       "0                0              0                     52              0   \n",
       "1                0              0                      0              0   \n",
       "\n",
       "   industry_code_main  occupation_code  total_employed  household_summary  \\\n",
       "0                  14                0               2                  4   \n",
       "1                  14                0               0                  4   \n",
       "\n",
       "   vet_benefit  tax_status  gains  losses  stocks_status  citizenship  \\\n",
       "0            2           0      0       0            292            4   \n",
       "1            2           5      0       0              0            4   \n",
       "\n",
       "   mig_year  importance_of_record  income_above_limit  \n",
       "0        95               1779.74                   0  \n",
       "1        94               2366.75                   0  "
      ]
     },
     "execution_count": 11,
     "metadata": {},
     "output_type": "execute_result"
    }
   ],
   "source": [
    "train_data1.head(2)"
   ]
  },
  {
   "cell_type": "markdown",
   "id": "f313d736",
   "metadata": {},
   "source": [
    "### Model Building:"
   ]
  },
  {
   "cell_type": "code",
   "execution_count": 12,
   "id": "067e4f77",
   "metadata": {},
   "outputs": [],
   "source": [
    "from sklearn.model_selection import train_test_split\n",
    "from sklearn.metrics import classification_report\n",
    "from xgboost import XGBClassifier"
   ]
  },
  {
   "cell_type": "code",
   "execution_count": 13,
   "id": "4f7369d8",
   "metadata": {},
   "outputs": [],
   "source": [
    "X = train_data1.drop([\"income_above_limit\"], axis=1)\n",
    "y = train_data1[\"income_above_limit\"]"
   ]
  },
  {
   "cell_type": "code",
   "execution_count": 14,
   "id": "1ea7ea8c",
   "metadata": {},
   "outputs": [
    {
     "name": "stdout",
     "output_type": "stream",
     "text": [
      "(167599, 23) (41900, 23) (167599,) (41900,)\n"
     ]
    }
   ],
   "source": [
    "X_train, X_test, y_train, y_test = train_test_split(X, y, stratify=y, test_size=0.2, random_state=0)\n",
    "print(X_train.shape, X_test.shape, y_train.shape, y_test.shape)"
   ]
  },
  {
   "cell_type": "code",
   "execution_count": 15,
   "id": "07c3bdcc",
   "metadata": {},
   "outputs": [
    {
     "name": "stderr",
     "output_type": "stream",
     "text": [
      "C:\\Users\\Asus\\AppData\\Local\\Programs\\Python\\Python310\\lib\\site-packages\\imblearn\\utils\\_validation.py:586: FutureWarning: Pass sampling_strategy=0.1 as keyword args. From version 0.9 passing these as positional arguments will result in an error\n",
      "  warnings.warn(\n"
     ]
    }
   ],
   "source": [
    "from imblearn.under_sampling import RandomUnderSampler\n",
    "us = RandomUnderSampler(0.1, random_state=0)\n",
    "X_train_us, y_train_us = us.fit_resample(X_train, y_train)"
   ]
  },
  {
   "cell_type": "code",
   "execution_count": 16,
   "id": "504bf020",
   "metadata": {},
   "outputs": [
    {
     "name": "stdout",
     "output_type": "stream",
     "text": [
      "0    157201\n",
      "1     10398\n",
      "Name: income_above_limit, dtype: int64\n",
      "0    103980\n",
      "1     10398\n",
      "Name: income_above_limit, dtype: int64\n"
     ]
    }
   ],
   "source": [
    "print(y_train.value_counts())\n",
    "print(y_train_us.value_counts())"
   ]
  },
  {
   "cell_type": "code",
   "execution_count": 17,
   "id": "7ea82161",
   "metadata": {},
   "outputs": [
    {
     "name": "stdout",
     "output_type": "stream",
     "text": [
      "              precision    recall  f1-score   support\n",
      "\n",
      "           0       0.97      0.98      0.97     39149\n",
      "           1       0.65      0.61      0.63      2751\n",
      "\n",
      "    accuracy                           0.95     41900\n",
      "   macro avg       0.81      0.79      0.80     41900\n",
      "weighted avg       0.95      0.95      0.95     41900\n",
      "\n",
      "income_above_limit      0     1\n",
      "row_0                          \n",
      "0                   38231   918\n",
      "1                    1069  1682\n"
     ]
    }
   ],
   "source": [
    "xg_model = XGBClassifier(\n",
    "                         learning_rate =0.045, \n",
    "                         n_estimators=1000, \n",
    "                         max_depth=5, \n",
    "                         objective= 'binary:logistic',\n",
    "                         \n",
    "                         min_child_weight=1, \n",
    "                         scale_pos_weight=1.65,\n",
    "                         gamma=0.2, \n",
    "                         subsample=0.9,\n",
    "                         colsample_bytree=0.3, \n",
    "                           \n",
    "                         nthread=8,\n",
    "                         seed=20\n",
    "                        )\n",
    "\n",
    "xg_model.fit(X_train_us, y_train_us)\n",
    "\n",
    "y_pred = xg_model.predict(X_test)\n",
    "\n",
    "cr_xg = classification_report(y_pred, y_test)\n",
    "print(cr_xg)\n",
    "\n",
    "print(pd.crosstab(y_pred, y_test))"
   ]
  },
  {
   "cell_type": "markdown",
   "id": "3ea30857",
   "metadata": {},
   "source": [
    "### Test data:"
   ]
  },
  {
   "cell_type": "code",
   "execution_count": 18,
   "id": "d74d0a52",
   "metadata": {},
   "outputs": [
    {
     "data": {
      "text/plain": [
       "(89786, 42)"
      ]
     },
     "execution_count": 18,
     "metadata": {},
     "output_type": "execute_result"
    }
   ],
   "source": [
    "test_data = pd.read_csv(\"Income_Test.csv\")\n",
    "test_data.shape"
   ]
  },
  {
   "cell_type": "code",
   "execution_count": 19,
   "id": "ce456cd2",
   "metadata": {},
   "outputs": [],
   "source": [
    "test_data1 = test_data.drop([\"ID\",\"education_institute\",\"employment_commitment\",\"household_stat\",\"unemployment_reason\",\"is_labor_union\",\"under_18_family\",\"veterans_admin_questionnaire\",\"old_residence_state\",\"old_residence_reg\",\"migration_prev_sunbelt\",\"migration_code_change_in_msa\",\"migration_code_move_within_reg\",\"occupation_code_main\",\"residence_1_year_ago\",\"country_of_birth_own\",\"country_of_birth_father\",\"country_of_birth_mother\",\"migration_code_change_in_reg\"], axis=1)"
   ]
  },
  {
   "cell_type": "code",
   "execution_count": 20,
   "id": "d0929e4a",
   "metadata": {},
   "outputs": [
    {
     "data": {
      "text/html": [
       "<div>\n",
       "<style scoped>\n",
       "    .dataframe tbody tr th:only-of-type {\n",
       "        vertical-align: middle;\n",
       "    }\n",
       "\n",
       "    .dataframe tbody tr th {\n",
       "        vertical-align: top;\n",
       "    }\n",
       "\n",
       "    .dataframe thead th {\n",
       "        text-align: right;\n",
       "    }\n",
       "</style>\n",
       "<table border=\"1\" class=\"dataframe\">\n",
       "  <thead>\n",
       "    <tr style=\"text-align: right;\">\n",
       "      <th></th>\n",
       "      <th>age</th>\n",
       "      <th>gender</th>\n",
       "      <th>education</th>\n",
       "      <th>class</th>\n",
       "      <th>marital_status</th>\n",
       "      <th>race</th>\n",
       "      <th>is_hispanic</th>\n",
       "      <th>employment_stat</th>\n",
       "      <th>wage_per_hour</th>\n",
       "      <th>working_week_per_year</th>\n",
       "      <th>industry_code</th>\n",
       "      <th>industry_code_main</th>\n",
       "      <th>occupation_code</th>\n",
       "      <th>total_employed</th>\n",
       "      <th>household_summary</th>\n",
       "      <th>vet_benefit</th>\n",
       "      <th>tax_status</th>\n",
       "      <th>gains</th>\n",
       "      <th>losses</th>\n",
       "      <th>stocks_status</th>\n",
       "      <th>citizenship</th>\n",
       "      <th>mig_year</th>\n",
       "      <th>importance_of_record</th>\n",
       "    </tr>\n",
       "  </thead>\n",
       "  <tbody>\n",
       "    <tr>\n",
       "      <th>0</th>\n",
       "      <td>54</td>\n",
       "      <td>1</td>\n",
       "      <td>12</td>\n",
       "      <td>3</td>\n",
       "      <td>2</td>\n",
       "      <td>4</td>\n",
       "      <td>0</td>\n",
       "      <td>0</td>\n",
       "      <td>600</td>\n",
       "      <td>46</td>\n",
       "      <td>29</td>\n",
       "      <td>21</td>\n",
       "      <td>38</td>\n",
       "      <td>2</td>\n",
       "      <td>4</td>\n",
       "      <td>2</td>\n",
       "      <td>2</td>\n",
       "      <td>0</td>\n",
       "      <td>0</td>\n",
       "      <td>0</td>\n",
       "      <td>4</td>\n",
       "      <td>94</td>\n",
       "      <td>3388.96</td>\n",
       "    </tr>\n",
       "    <tr>\n",
       "      <th>1</th>\n",
       "      <td>53</td>\n",
       "      <td>1</td>\n",
       "      <td>4</td>\n",
       "      <td>3</td>\n",
       "      <td>2</td>\n",
       "      <td>4</td>\n",
       "      <td>1</td>\n",
       "      <td>0</td>\n",
       "      <td>0</td>\n",
       "      <td>52</td>\n",
       "      <td>5</td>\n",
       "      <td>10</td>\n",
       "      <td>37</td>\n",
       "      <td>4</td>\n",
       "      <td>4</td>\n",
       "      <td>2</td>\n",
       "      <td>2</td>\n",
       "      <td>0</td>\n",
       "      <td>0</td>\n",
       "      <td>0</td>\n",
       "      <td>0</td>\n",
       "      <td>95</td>\n",
       "      <td>1177.55</td>\n",
       "    </tr>\n",
       "  </tbody>\n",
       "</table>\n",
       "</div>"
      ],
      "text/plain": [
       "   age  gender  education  class  marital_status  race  is_hispanic  \\\n",
       "0   54       1         12      3               2     4            0   \n",
       "1   53       1          4      3               2     4            1   \n",
       "\n",
       "   employment_stat  wage_per_hour  working_week_per_year  industry_code  \\\n",
       "0                0            600                     46             29   \n",
       "1                0              0                     52              5   \n",
       "\n",
       "   industry_code_main  occupation_code  total_employed  household_summary  \\\n",
       "0                  21               38               2                  4   \n",
       "1                  10               37               4                  4   \n",
       "\n",
       "   vet_benefit  tax_status  gains  losses  stocks_status  citizenship  \\\n",
       "0            2           2      0       0              0            4   \n",
       "1            2           2      0       0              0            0   \n",
       "\n",
       "   mig_year  importance_of_record  \n",
       "0        94               3388.96  \n",
       "1        95               1177.55  "
      ]
     },
     "execution_count": 20,
     "metadata": {},
     "output_type": "execute_result"
    }
   ],
   "source": [
    "from sklearn.preprocessing import LabelEncoder\n",
    "l = LabelEncoder()\n",
    "\n",
    "for i in obj[:len(obj)-1]:\n",
    "    test_data1[i]=l.fit_transform(test_data1[i].astype(str))\n",
    "\n",
    "test_data1.head(2)"
   ]
  },
  {
   "cell_type": "code",
   "execution_count": 21,
   "id": "8b58ba25",
   "metadata": {},
   "outputs": [],
   "source": [
    "test_pred = xg_model.predict(test_data1)"
   ]
  },
  {
   "cell_type": "code",
   "execution_count": 22,
   "id": "cdbf5444",
   "metadata": {},
   "outputs": [
    {
     "data": {
      "text/plain": [
       "0    0.934221\n",
       "1    0.065779\n",
       "Name: income_above_limit, dtype: float64"
      ]
     },
     "execution_count": 22,
     "metadata": {},
     "output_type": "execute_result"
    }
   ],
   "source": [
    "df = pd.read_csv('Income_SampleSubmission.csv')\n",
    "df['income_above_limit'] = test_pred\n",
    "df.to_csv('Income_test_predictions.csv', index=False)\n",
    "df['income_above_limit'].value_counts(normalize=True)"
   ]
  }
 ],
 "metadata": {
  "kernelspec": {
   "display_name": "Python 3 (ipykernel)",
   "language": "python",
   "name": "python3"
  },
  "language_info": {
   "codemirror_mode": {
    "name": "ipython",
    "version": 3
   },
   "file_extension": ".py",
   "mimetype": "text/x-python",
   "name": "python",
   "nbconvert_exporter": "python",
   "pygments_lexer": "ipython3",
   "version": "3.11.0"
  }
 },
 "nbformat": 4,
 "nbformat_minor": 5
}
